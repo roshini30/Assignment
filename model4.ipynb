{
 "cells": [
  {
   "cell_type": "code",
   "execution_count": 5,
   "metadata": {},
   "outputs": [],
   "source": [
    "import numpy as np\n",
    "import glob\n",
    "import cv2\n",
    "import sklearn\n",
    "from sklearn.linear_model import LogisticRegression\n",
    "import tensorflow as tf\n",
    "from tensorflow.python import keras\n",
    "from tensorflow.python.keras.preprocessing.image import ImageDataGenerator\n",
    "from random_eraser import get_random_eraser\n",
    "from tensorflow.python.keras.applications.vgg16 import VGG16\n",
    "from tensorflow.python.keras.models import Model\n",
    "from tensorflow.python.keras.layers import Dense, GlobalMaxPooling2D, Flatten, Dropout, GaussianNoise, Activation\n",
    "import os, random\n",
    "import shutil"
   ]
  },
  {
   "cell_type": "code",
   "execution_count": 25,
   "metadata": {},
   "outputs": [],
   "source": [
    "## loading data\n",
    "folder = r'M:\\Projects\\number plates\\hsrp_plates\\*'\n",
    "hsrp = np.zeros((1482,12288))\n",
    "nhsrp = np.zeros((1061,12288))\n",
    "i=0\n",
    "for path in glob.glob(folder):\n",
    "    im = cv2.imread(path)\n",
    "    im1 = cv2.resize(im,(64,64)).flatten()\n",
    "    hsrp[i,:]=im1\n",
    "    i=i+1\n",
    "folders = r'M:\\Projects\\number plates\\non_hsrp_plates\\*'\n",
    "j=0\n",
    "for path in glob.glob(folders):\n",
    "    img = cv2.imread(path)\n",
    "    img1 = cv2.resize(img,(64,64)).flatten()\n",
    "    nhsrp[j,:]=img1\n",
    "    j=j+1"
   ]
  },
  {
   "cell_type": "code",
   "execution_count": 32,
   "metadata": {},
   "outputs": [
    {
     "name": "stdout",
     "output_type": "stream",
     "text": [
      "(2100, 12288) (2100,)\n",
      "(443, 12288) (443,)\n"
     ]
    }
   ],
   "source": [
    "hsrp_y = np.zeros((1482))\n",
    "nhsrp_y = np.ones((1061))\n",
    "train_x = np.concatenate((hsrp[:1200],nhsrp[:900])) \n",
    "train_y = np.concatenate((hsrp_y[:1200],nhsrp_y[:900])) \n",
    "val_x = np.concatenate((hsrp[1200:],nhsrp[900:])) \n",
    "val_y = np.concatenate((hsrp_y[1200:],nhsrp_y[900:]))\n",
    "print(train_x.shape,train_y.shape)\n",
    "print(val_x.shape,val_y.shape)\n"
   ]
  },
  {
   "cell_type": "code",
   "execution_count": 46,
   "metadata": {},
   "outputs": [
    {
     "name": "stderr",
     "output_type": "stream",
     "text": [
      "[Parallel(n_jobs=1)]: Using backend SequentialBackend with 1 concurrent workers.\n",
      "[Parallel(n_jobs=1)]: Done   1 out of   1 | elapsed:   14.9s finished\n"
     ]
    },
    {
     "data": {
      "text/plain": [
       "0.8261851015801355"
      ]
     },
     "execution_count": 46,
     "metadata": {},
     "output_type": "execute_result"
    }
   ],
   "source": [
    "clf = LogisticRegression(penalty='l2', max_iter=70,verbose=1,random_state=2,C=10,solver='newton-cg').fit(train_x, train_y)\n",
    "clf.score(val_x, val_y)"
   ]
  },
  {
   "cell_type": "code",
   "execution_count": 27,
   "metadata": {},
   "outputs": [
    {
     "name": "stdout",
     "output_type": "stream",
     "text": [
      "Found 1995 images belonging to 2 classes.\n"
     ]
    }
   ],
   "source": [
    "train_generator = ImageDataGenerator(rescale=1/255,\n",
    "                                    rotation_range=40,\n",
    "                                    width_shift_range=0.2,\n",
    "                                    height_shift_range=0.2,\n",
    "                                    shear_range=0.2,\n",
    "                                    zoom_range=0.2,\n",
    "                                    brightness_range=(0.1,0.9),\n",
    "                                    channel_shift_range = 150,\n",
    "                                    fill_mode=\"nearest\",\n",
    "                                    preprocessing_function = get_random_eraser(v_l=0, v_h=1))\n",
    "                            \n",
    "train = train_generator.flow_from_directory(r'M:\\Projects\\number plates\\train',target_size=(224,224),class_mode='categorical',shuffle=True)"
   ]
  },
  {
   "cell_type": "code",
   "execution_count": 28,
   "metadata": {},
   "outputs": [
    {
     "name": "stdout",
     "output_type": "stream",
     "text": [
      "Found 450 images belonging to 2 classes.\n"
     ]
    }
   ],
   "source": [
    "val_generator = ImageDataGenerator(rescale=1./255)\n",
    "val = val_generator.flow_from_directory(r'M:\\Projects\\number plates\\val',target_size=(224,224),class_mode='categorical',shuffle=False)"
   ]
  },
  {
   "cell_type": "code",
   "execution_count": 34,
   "metadata": {},
   "outputs": [],
   "source": [
    "class myCallback(tf.keras.callbacks.Callback):\n",
    "    def on_epoch_end(self, epoch, logs={}):\n",
    "        if(logs.get('acc')>=0.80):\n",
    "            if(logs.get('val_acc')>=0.75):\n",
    "                   print(\"\\nReached 75.0% accuracy so cancelling training!\")\n",
    "                   self.model.stop_training = True"
   ]
  },
  {
   "cell_type": "code",
   "execution_count": 35,
   "metadata": {},
   "outputs": [],
   "source": [
    "base_model = VGG16(weights='imagenet',include_top=False)"
   ]
  },
  {
   "cell_type": "code",
   "execution_count": 36,
   "metadata": {},
   "outputs": [],
   "source": [
    "for layer in base_model.layers:\n",
    "    layer.trainable = False"
   ]
  },
  {
   "cell_type": "code",
   "execution_count": 37,
   "metadata": {},
   "outputs": [],
   "source": [
    "x = base_model.output\n",
    "x = GlobalMaxPooling2D()(x)\n",
    "x = Dense(1000,activation='relu')(x)\n",
    "x = Dropout(0.5)(x)\n",
    "x = Dense(50,activation='relu')(x)\n",
    "x = Dropout(0.5)(x)\n",
    "pred = Dense(2,activation='softmax')(x)\n",
    "model = Model(inputs = base_model.input, outputs = pred)"
   ]
  },
  {
   "cell_type": "code",
   "execution_count": 38,
   "metadata": {},
   "outputs": [
    {
     "name": "stdout",
     "output_type": "stream",
     "text": [
      "Epoch 1/30\n",
      "63/63 [==============================] - 1036s 16s/step - loss: 0.7387 - acc: 0.5594 - val_loss: 0.6605 - val_acc: 0.6667\n",
      "Epoch 2/30\n",
      "63/63 [==============================] - 998s 16s/step - loss: 0.6854 - acc: 0.5779 - val_loss: 0.6851 - val_acc: 0.6733\n",
      "Epoch 3/30\n",
      "63/63 [==============================] - 967s 15s/step - loss: 0.6831 - acc: 0.5674 - val_loss: 0.6724 - val_acc: 0.7156\n",
      "Epoch 4/30\n",
      "63/63 [==============================] - 941s 15s/step - loss: 0.6742 - acc: 0.5825 - val_loss: 0.6585 - val_acc: 0.6667\n",
      "Epoch 5/30\n",
      "63/63 [==============================] - 958s 15s/step - loss: 0.6649 - acc: 0.5960 - val_loss: 0.6376 - val_acc: 0.7156\n",
      "Epoch 6/30\n",
      "63/63 [==============================] - 958s 15s/step - loss: 0.6486 - acc: 0.6291 - val_loss: 0.6270 - val_acc: 0.6689\n",
      "Epoch 7/30\n",
      "63/63 [==============================] - 939s 15s/step - loss: 0.6334 - acc: 0.6451 - val_loss: 0.5944 - val_acc: 0.7200\n",
      "Epoch 8/30\n",
      "63/63 [==============================] - 890s 14s/step - loss: 0.6291 - acc: 0.6551 - val_loss: 0.6006 - val_acc: 0.7178\n",
      "Epoch 9/30\n",
      "63/63 [==============================] - 914s 15s/step - loss: 0.6012 - acc: 0.6742 - val_loss: 0.6085 - val_acc: 0.6756\n",
      "Epoch 10/30\n",
      "63/63 [==============================] - 830s 13s/step - loss: 0.5842 - acc: 0.6822 - val_loss: 0.5495 - val_acc: 0.7200\n",
      "Epoch 11/30\n",
      "63/63 [==============================] - 729s 12s/step - loss: 0.5743 - acc: 0.7068 - val_loss: 0.5599 - val_acc: 0.6911\n",
      "Epoch 12/30\n",
      "63/63 [==============================] - 723s 11s/step - loss: 0.5591 - acc: 0.7233 - val_loss: 0.5869 - val_acc: 0.7178\n",
      "Epoch 13/30\n",
      "63/63 [==============================] - 721s 11s/step - loss: 0.5535 - acc: 0.7198 - val_loss: 0.5345 - val_acc: 0.7267\n",
      "Epoch 14/30\n",
      "63/63 [==============================] - 722s 11s/step - loss: 0.5456 - acc: 0.7283 - val_loss: 0.5607 - val_acc: 0.7044\n",
      "Epoch 15/30\n",
      "63/63 [==============================] - 721s 11s/step - loss: 0.5542 - acc: 0.7128 - val_loss: 0.6010 - val_acc: 0.6422\n",
      "Epoch 16/30\n",
      "63/63 [==============================] - 723s 11s/step - loss: 0.5521 - acc: 0.7313 - val_loss: 0.5589 - val_acc: 0.7089\n",
      "Epoch 17/30\n",
      "63/63 [==============================] - 725s 12s/step - loss: 0.5153 - acc: 0.7514 - val_loss: 0.5327 - val_acc: 0.7222\n",
      "Epoch 18/30\n",
      "63/63 [==============================] - 723s 11s/step - loss: 0.5176 - acc: 0.7373 - val_loss: 0.5666 - val_acc: 0.6289\n",
      "Epoch 19/30\n",
      "63/63 [==============================] - 724s 11s/step - loss: 0.5205 - acc: 0.7358 - val_loss: 0.5348 - val_acc: 0.6822\n",
      "Epoch 20/30\n",
      "63/63 [==============================] - 723s 11s/step - loss: 0.5002 - acc: 0.7574 - val_loss: 0.5036 - val_acc: 0.7133\n",
      "Epoch 21/30\n",
      "63/63 [==============================] - 726s 12s/step - loss: 0.5061 - acc: 0.7544 - val_loss: 0.5479 - val_acc: 0.6489\n",
      "Epoch 22/30\n",
      "63/63 [==============================] - 725s 12s/step - loss: 0.4964 - acc: 0.7554 - val_loss: 0.5212 - val_acc: 0.7200\n",
      "Epoch 23/30\n",
      "63/63 [==============================] - 725s 12s/step - loss: 0.5325 - acc: 0.7308 - val_loss: 0.5310 - val_acc: 0.7156\n",
      "Epoch 24/30\n",
      "63/63 [==============================] - 726s 12s/step - loss: 0.4953 - acc: 0.7604 - val_loss: 0.5193 - val_acc: 0.6889\n",
      "Epoch 25/30\n",
      "63/63 [==============================] - 737s 12s/step - loss: 0.4975 - acc: 0.7524 - val_loss: 0.5223 - val_acc: 0.7200\n",
      "Epoch 26/30\n",
      "63/63 [==============================] - 736s 12s/step - loss: 0.5012 - acc: 0.7554 - val_loss: 0.5170 - val_acc: 0.7333\n",
      "Epoch 27/30\n",
      "63/63 [==============================] - 725s 12s/step - loss: 0.4805 - acc: 0.7689 - val_loss: 0.5417 - val_acc: 0.7222\n",
      "Epoch 28/30\n",
      "63/63 [==============================] - 724s 11s/step - loss: 0.4670 - acc: 0.7714 - val_loss: 0.5194 - val_acc: 0.6711\n",
      "Epoch 29/30\n",
      "63/63 [==============================] - 725s 12s/step - loss: 0.4912 - acc: 0.7684 - val_loss: 0.5138 - val_acc: 0.7200\n",
      "Epoch 30/30\n",
      "63/63 [==============================] - 725s 12s/step - loss: 0.4887 - acc: 0.7619 - val_loss: 0.5223 - val_acc: 0.7200\n"
     ]
    }
   ],
   "source": [
    "callbacks= myCallback()\n",
    "model.compile(optimizer='adam',loss='binary_crossentropy',metrics=['acc'])\n",
    "history = model.fit_generator(train,epochs=30,callbacks=[callbacks],validation_data = val)"
   ]
  },
  {
   "cell_type": "code",
   "execution_count": 1,
   "metadata": {},
   "outputs": [
    {
     "ename": "NameError",
     "evalue": "name 'model' is not defined",
     "output_type": "error",
     "traceback": [
      "\u001b[1;31m---------------------------------------------------------------------------\u001b[0m",
      "\u001b[1;31mNameError\u001b[0m                                 Traceback (most recent call last)",
      "\u001b[1;32m<ipython-input-1-c62005c1a85e>\u001b[0m in \u001b[0;36m<module>\u001b[1;34m\u001b[0m\n\u001b[1;32m----> 1\u001b[1;33m \u001b[0mmodel\u001b[0m\u001b[1;33m.\u001b[0m\u001b[0msave\u001b[0m\u001b[1;33m(\u001b[0m\u001b[1;34m'72random'\u001b[0m\u001b[1;33m)\u001b[0m\u001b[1;33m\u001b[0m\u001b[1;33m\u001b[0m\u001b[0m\n\u001b[0m",
      "\u001b[1;31mNameError\u001b[0m: name 'model' is not defined"
     ]
    }
   ],
   "source": [
    "model.save('72random')"
   ]
  },
  {
   "cell_type": "code",
   "execution_count": null,
   "metadata": {},
   "outputs": [],
   "source": []
  }
 ],
 "metadata": {
  "kernelspec": {
   "display_name": "Python 3",
   "language": "python",
   "name": "python3"
  },
  "language_info": {
   "codemirror_mode": {
    "name": "ipython",
    "version": 3
   },
   "file_extension": ".py",
   "mimetype": "text/x-python",
   "name": "python",
   "nbconvert_exporter": "python",
   "pygments_lexer": "ipython3",
   "version": "3.7.6"
  }
 },
 "nbformat": 4,
 "nbformat_minor": 4
}
