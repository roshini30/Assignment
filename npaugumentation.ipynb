{
  "nbformat": 4,
  "nbformat_minor": 0,
  "metadata": {
    "colab": {
      "name": "npaugumentation.ipynb",
      "provenance": [],
      "collapsed_sections": []
    },
    "kernelspec": {
      "name": "python3",
      "display_name": "Python 3"
    },
    "language_info": {
      "name": "python"
    },
    "accelerator": "GPU"
  },
  "cells": [
    {
      "cell_type": "code",
      "metadata": {
        "id": "msHtPHQ-mY7x"
      },
      "source": [
        "import numpy as np\n",
        "import glob\n",
        "import cv2\n",
        "import sklearn\n",
        "from sklearn.linear_model import LogisticRegression\n",
        "import tensorflow as tf\n",
        "from tensorflow.python import keras\n",
        "from tensorflow.python.keras.preprocessing.image import ImageDataGenerator\n",
        "from tensorflow.python.keras.applications.vgg16 import VGG16\n",
        "from tensorflow.python.keras.models import Model\n",
        "from tensorflow.python.keras.layers import Dense, GlobalMaxPooling2D, Flatten, Dropout, GaussianNoise, Activation\n",
        "import os, random\n",
        "import shutil"
      ],
      "execution_count": 38,
      "outputs": []
    },
    {
      "cell_type": "code",
      "metadata": {
        "colab": {
          "base_uri": "https://localhost:8080/"
        },
        "id": "ZJ7LtRwFmjWy",
        "outputId": "30b9acf6-2939-4caf-9d7c-5771f2d5a209"
      },
      "source": [
        "train_generator = ImageDataGenerator(rescale=1/255,\n",
        "                                    rotation_range=90,\n",
        "                                    width_shift_range=0.2,\n",
        "                                    height_shift_range=0.2,\n",
        "                                    shear_range=0.4,\n",
        "                                    brightness_range=(0.1,0.9),\n",
        "                                    channel_shift_range = 150,\n",
        "                                    fill_mode=\"nearest\")\n",
        "                            \n",
        "train = train_generator.flow_from_directory('/content/drive/MyDrive/number plates/train',target_size=(224,224),class_mode='categorical',shuffle=True)"
      ],
      "execution_count": 39,
      "outputs": [
        {
          "output_type": "stream",
          "text": [
            "Found 1995 images belonging to 2 classes.\n"
          ],
          "name": "stdout"
        }
      ]
    },
    {
      "cell_type": "code",
      "metadata": {
        "colab": {
          "base_uri": "https://localhost:8080/"
        },
        "id": "pEGw6vhmoqmm",
        "outputId": "b6facb77-d019-44d4-e05c-f7ee94515346"
      },
      "source": [
        "val_generator = ImageDataGenerator(rescale=1./255)\n",
        "val = val_generator.flow_from_directory('/content/drive/MyDrive/number plates/val',target_size=(224,224),class_mode='categorical',shuffle=False)"
      ],
      "execution_count": 40,
      "outputs": [
        {
          "output_type": "stream",
          "text": [
            "Found 450 images belonging to 2 classes.\n"
          ],
          "name": "stdout"
        }
      ]
    },
    {
      "cell_type": "code",
      "metadata": {
        "id": "GOQKKStkou7Q"
      },
      "source": [
        "class myCallback(tf.keras.callbacks.Callback):\n",
        "    def on_epoch_end(self, epoch, logs={}):\n",
        "        if(logs.get('acc')>=0.80):\n",
        "            if(logs.get('val_acc')>=0.77):\n",
        "                   print(\"\\nReached 75.0% accuracy so cancelling training!\")\n",
        "                   self.model.stop_training = True"
      ],
      "execution_count": 42,
      "outputs": []
    },
    {
      "cell_type": "code",
      "metadata": {
        "id": "HHq0mWmsoxbJ"
      },
      "source": [
        "base_model = VGG16(weights='imagenet',include_top=False)"
      ],
      "execution_count": 43,
      "outputs": []
    },
    {
      "cell_type": "code",
      "metadata": {
        "id": "EDVCsiEGo0C5"
      },
      "source": [
        "for layer in base_model.layers:\n",
        "    layer.trainable = False"
      ],
      "execution_count": 44,
      "outputs": []
    },
    {
      "cell_type": "code",
      "metadata": {
        "id": "l-tYlJkjo20m"
      },
      "source": [
        "x = base_model.output\n",
        "x = GlobalMaxPooling2D()(x)\n",
        "x = GaussianNoise(0.1)(x)\n",
        "x = Dense(1280,activation='relu')(x)\n",
        "x = Dropout(0.5)(x)\n",
        "x = Dense(500,activation='relu')(x)\n",
        "x = Dropout(0.5)(x)\n",
        "#x = Dense(600)(x)\n",
        "#x = GaussianNoise(0.1)(x)\n",
        "#x = Activation('relu')(x)\n",
        "#x = Dropout(0.2)(x)\n",
        "#x = GaussianNoise(0.1)(x)\n",
        "x = Dense(50,activation='relu')(x)\n",
        "x = Dropout(0.5)(x)\n",
        "pred = Dense(2,activation='softmax')(x)\n",
        "model = Model(inputs = base_model.input, outputs = pred)"
      ],
      "execution_count": 45,
      "outputs": []
    },
    {
      "cell_type": "code",
      "metadata": {
        "colab": {
          "base_uri": "https://localhost:8080/"
        },
        "id": "38GfC6mko5ER",
        "outputId": "9a8c44ac-d014-4bfd-9ab3-c9a387ecb2a4"
      },
      "source": [
        "callbacks= myCallback()\n",
        "model.compile(optimizer='adam',loss='binary_crossentropy',metrics=['acc'])\n",
        "history = model.fit_generator(train,epochs=100,callbacks=[callbacks],validation_data = val)"
      ],
      "execution_count": 46,
      "outputs": [
        {
          "output_type": "stream",
          "text": [
            "/usr/local/lib/python3.7/dist-packages/tensorflow/python/keras/engine/training.py:1844: UserWarning: `Model.fit_generator` is deprecated and will be removed in a future version. Please use `Model.fit`, which supports generators.\n",
            "  warnings.warn('`Model.fit_generator` is deprecated and '\n"
          ],
          "name": "stderr"
        },
        {
          "output_type": "stream",
          "text": [
            "Epoch 1/100\n",
            "63/63 [==============================] - 41s 627ms/step - loss: 0.7905 - acc: 0.5071 - val_loss: 0.6622 - val_acc: 0.6667\n",
            "Epoch 2/100\n",
            "63/63 [==============================] - 39s 619ms/step - loss: 0.6942 - acc: 0.5638 - val_loss: 0.6822 - val_acc: 0.6667\n",
            "Epoch 3/100\n",
            "63/63 [==============================] - 39s 621ms/step - loss: 0.6805 - acc: 0.5948 - val_loss: 0.6610 - val_acc: 0.6667\n",
            "Epoch 4/100\n",
            "63/63 [==============================] - 39s 619ms/step - loss: 0.6674 - acc: 0.5817 - val_loss: 0.6819 - val_acc: 0.6089\n",
            "Epoch 5/100\n",
            "63/63 [==============================] - 39s 620ms/step - loss: 0.6495 - acc: 0.6157 - val_loss: 0.6360 - val_acc: 0.6667\n",
            "Epoch 6/100\n",
            "63/63 [==============================] - 39s 612ms/step - loss: 0.6492 - acc: 0.6076 - val_loss: 0.6603 - val_acc: 0.6000\n",
            "Epoch 7/100\n",
            "63/63 [==============================] - 39s 610ms/step - loss: 0.6197 - acc: 0.6646 - val_loss: 0.5691 - val_acc: 0.7089\n",
            "Epoch 8/100\n",
            "63/63 [==============================] - 39s 611ms/step - loss: 0.5570 - acc: 0.7194 - val_loss: 0.5594 - val_acc: 0.7067\n",
            "Epoch 9/100\n",
            "63/63 [==============================] - 39s 610ms/step - loss: 0.5873 - acc: 0.7002 - val_loss: 0.5229 - val_acc: 0.7111\n",
            "Epoch 10/100\n",
            "63/63 [==============================] - 39s 610ms/step - loss: 0.5362 - acc: 0.7359 - val_loss: 0.5598 - val_acc: 0.7111\n",
            "Epoch 11/100\n",
            "63/63 [==============================] - 39s 611ms/step - loss: 0.5433 - acc: 0.7467 - val_loss: 0.5836 - val_acc: 0.7156\n",
            "Epoch 12/100\n",
            "63/63 [==============================] - 38s 609ms/step - loss: 0.5661 - acc: 0.7175 - val_loss: 0.5865 - val_acc: 0.6600\n",
            "Epoch 13/100\n",
            "63/63 [==============================] - 39s 610ms/step - loss: 0.5368 - acc: 0.7354 - val_loss: 0.5256 - val_acc: 0.7467\n",
            "Epoch 14/100\n",
            "63/63 [==============================] - 39s 611ms/step - loss: 0.5384 - acc: 0.7359 - val_loss: 0.5297 - val_acc: 0.7222\n",
            "Epoch 15/100\n",
            "63/63 [==============================] - 39s 611ms/step - loss: 0.5090 - acc: 0.7687 - val_loss: 0.5814 - val_acc: 0.6667\n",
            "Epoch 16/100\n",
            "63/63 [==============================] - 38s 608ms/step - loss: 0.4964 - acc: 0.7612 - val_loss: 0.5160 - val_acc: 0.7200\n",
            "Epoch 17/100\n",
            "63/63 [==============================] - 39s 617ms/step - loss: 0.4871 - acc: 0.7677 - val_loss: 0.5160 - val_acc: 0.7200\n",
            "Epoch 18/100\n",
            "63/63 [==============================] - 39s 624ms/step - loss: 0.4852 - acc: 0.7605 - val_loss: 0.5609 - val_acc: 0.7244\n",
            "Epoch 19/100\n",
            "63/63 [==============================] - 39s 625ms/step - loss: 0.5188 - acc: 0.7487 - val_loss: 0.5041 - val_acc: 0.7178\n",
            "Epoch 20/100\n",
            "63/63 [==============================] - 39s 620ms/step - loss: 0.4785 - acc: 0.7716 - val_loss: 0.5190 - val_acc: 0.7178\n",
            "Epoch 21/100\n",
            "63/63 [==============================] - 39s 622ms/step - loss: 0.4862 - acc: 0.7716 - val_loss: 0.5164 - val_acc: 0.7467\n",
            "Epoch 22/100\n",
            "63/63 [==============================] - 39s 621ms/step - loss: 0.4979 - acc: 0.7653 - val_loss: 0.4846 - val_acc: 0.7378\n",
            "Epoch 23/100\n",
            "63/63 [==============================] - 39s 623ms/step - loss: 0.4776 - acc: 0.7663 - val_loss: 0.4972 - val_acc: 0.7200\n",
            "Epoch 24/100\n",
            "63/63 [==============================] - 39s 616ms/step - loss: 0.4837 - acc: 0.7747 - val_loss: 0.4938 - val_acc: 0.7244\n",
            "Epoch 25/100\n",
            "63/63 [==============================] - 39s 615ms/step - loss: 0.4729 - acc: 0.7817 - val_loss: 0.5185 - val_acc: 0.7333\n",
            "Epoch 26/100\n",
            "63/63 [==============================] - 39s 615ms/step - loss: 0.5106 - acc: 0.7447 - val_loss: 0.5383 - val_acc: 0.7178\n",
            "Epoch 27/100\n",
            "63/63 [==============================] - 39s 613ms/step - loss: 0.4780 - acc: 0.7760 - val_loss: 0.5065 - val_acc: 0.7289\n",
            "Epoch 28/100\n",
            "63/63 [==============================] - 39s 614ms/step - loss: 0.4940 - acc: 0.7624 - val_loss: 0.4938 - val_acc: 0.7222\n",
            "Epoch 29/100\n",
            "63/63 [==============================] - 39s 613ms/step - loss: 0.4654 - acc: 0.7819 - val_loss: 0.5086 - val_acc: 0.7244\n",
            "Epoch 30/100\n",
            "63/63 [==============================] - 39s 612ms/step - loss: 0.4840 - acc: 0.7738 - val_loss: 0.4743 - val_acc: 0.7267\n",
            "Epoch 31/100\n",
            "63/63 [==============================] - 39s 613ms/step - loss: 0.4792 - acc: 0.7735 - val_loss: 0.4734 - val_acc: 0.7444\n",
            "Epoch 32/100\n",
            "63/63 [==============================] - 39s 614ms/step - loss: 0.4807 - acc: 0.7639 - val_loss: 0.4909 - val_acc: 0.7244\n",
            "Epoch 33/100\n",
            "63/63 [==============================] - 39s 615ms/step - loss: 0.5026 - acc: 0.7605 - val_loss: 0.4796 - val_acc: 0.7244\n",
            "Epoch 34/100\n",
            "63/63 [==============================] - 39s 613ms/step - loss: 0.4669 - acc: 0.7734 - val_loss: 0.4911 - val_acc: 0.7156\n",
            "Epoch 35/100\n",
            "63/63 [==============================] - 39s 615ms/step - loss: 0.4391 - acc: 0.8016 - val_loss: 0.5235 - val_acc: 0.6867\n",
            "Epoch 36/100\n",
            "63/63 [==============================] - 39s 614ms/step - loss: 0.4862 - acc: 0.7849 - val_loss: 0.5024 - val_acc: 0.7178\n",
            "Epoch 37/100\n",
            "63/63 [==============================] - 39s 615ms/step - loss: 0.4618 - acc: 0.7794 - val_loss: 0.5086 - val_acc: 0.7400\n",
            "Epoch 38/100\n",
            "63/63 [==============================] - 39s 614ms/step - loss: 0.4806 - acc: 0.7634 - val_loss: 0.4645 - val_acc: 0.7378\n",
            "Epoch 39/100\n",
            "63/63 [==============================] - 39s 615ms/step - loss: 0.4606 - acc: 0.7862 - val_loss: 0.5039 - val_acc: 0.7289\n",
            "Epoch 40/100\n",
            "63/63 [==============================] - 39s 615ms/step - loss: 0.4833 - acc: 0.7571 - val_loss: 0.4957 - val_acc: 0.7511\n",
            "Epoch 41/100\n",
            "63/63 [==============================] - 39s 617ms/step - loss: 0.4696 - acc: 0.7805 - val_loss: 0.4846 - val_acc: 0.7244\n",
            "Epoch 42/100\n",
            "63/63 [==============================] - 39s 619ms/step - loss: 0.4272 - acc: 0.8031 - val_loss: 0.5029 - val_acc: 0.7156\n",
            "Epoch 43/100\n",
            "63/63 [==============================] - 39s 618ms/step - loss: 0.4390 - acc: 0.8033 - val_loss: 0.5138 - val_acc: 0.7156\n",
            "Epoch 44/100\n",
            "63/63 [==============================] - 39s 615ms/step - loss: 0.4386 - acc: 0.7922 - val_loss: 0.5115 - val_acc: 0.7444\n",
            "Epoch 45/100\n",
            "63/63 [==============================] - 39s 614ms/step - loss: 0.4699 - acc: 0.7730 - val_loss: 0.4896 - val_acc: 0.7400\n",
            "Epoch 46/100\n",
            "63/63 [==============================] - 39s 618ms/step - loss: 0.4572 - acc: 0.7706 - val_loss: 0.4825 - val_acc: 0.7444\n",
            "Epoch 47/100\n",
            "63/63 [==============================] - 39s 615ms/step - loss: 0.4672 - acc: 0.7794 - val_loss: 0.4995 - val_acc: 0.7289\n",
            "Epoch 48/100\n",
            "63/63 [==============================] - 39s 617ms/step - loss: 0.4345 - acc: 0.7978 - val_loss: 0.4713 - val_acc: 0.7267\n",
            "Epoch 49/100\n",
            "63/63 [==============================] - 39s 615ms/step - loss: 0.4184 - acc: 0.8148 - val_loss: 0.5070 - val_acc: 0.7067\n",
            "Epoch 50/100\n",
            "63/63 [==============================] - 39s 612ms/step - loss: 0.4467 - acc: 0.7965 - val_loss: 0.4749 - val_acc: 0.7222\n",
            "Epoch 51/100\n",
            "63/63 [==============================] - 39s 617ms/step - loss: 0.4308 - acc: 0.7924 - val_loss: 0.4943 - val_acc: 0.7178\n",
            "Epoch 52/100\n",
            "63/63 [==============================] - 39s 613ms/step - loss: 0.4595 - acc: 0.7831 - val_loss: 0.5057 - val_acc: 0.7311\n",
            "Epoch 53/100\n",
            "63/63 [==============================] - 39s 615ms/step - loss: 0.4623 - acc: 0.7926 - val_loss: 0.5326 - val_acc: 0.7178\n",
            "Epoch 54/100\n",
            "63/63 [==============================] - 39s 611ms/step - loss: 0.4158 - acc: 0.7997 - val_loss: 0.4945 - val_acc: 0.7200\n",
            "Epoch 55/100\n",
            "63/63 [==============================] - 39s 611ms/step - loss: 0.4630 - acc: 0.7809 - val_loss: 0.4614 - val_acc: 0.7444\n",
            "Epoch 56/100\n",
            "63/63 [==============================] - 39s 612ms/step - loss: 0.4447 - acc: 0.7825 - val_loss: 0.5268 - val_acc: 0.7244\n",
            "Epoch 57/100\n",
            "63/63 [==============================] - 39s 613ms/step - loss: 0.4290 - acc: 0.8029 - val_loss: 0.4802 - val_acc: 0.7311\n",
            "Epoch 58/100\n",
            "63/63 [==============================] - 39s 622ms/step - loss: 0.4307 - acc: 0.7846 - val_loss: 0.4693 - val_acc: 0.7467\n",
            "Epoch 59/100\n",
            "63/63 [==============================] - 39s 625ms/step - loss: 0.4420 - acc: 0.7965 - val_loss: 0.4757 - val_acc: 0.7400\n",
            "Epoch 60/100\n",
            "63/63 [==============================] - 39s 625ms/step - loss: 0.4450 - acc: 0.8011 - val_loss: 0.4788 - val_acc: 0.7267\n",
            "Epoch 61/100\n",
            "63/63 [==============================] - 39s 621ms/step - loss: 0.4262 - acc: 0.8060 - val_loss: 0.4988 - val_acc: 0.7222\n",
            "Epoch 62/100\n",
            "63/63 [==============================] - 39s 621ms/step - loss: 0.4159 - acc: 0.8086 - val_loss: 0.4970 - val_acc: 0.7156\n",
            "Epoch 63/100\n",
            "63/63 [==============================] - 39s 619ms/step - loss: 0.4345 - acc: 0.8019 - val_loss: 0.4611 - val_acc: 0.7333\n",
            "Epoch 64/100\n",
            "63/63 [==============================] - 39s 618ms/step - loss: 0.4312 - acc: 0.8156 - val_loss: 0.4829 - val_acc: 0.7222\n",
            "Epoch 65/100\n",
            "63/63 [==============================] - 39s 615ms/step - loss: 0.4523 - acc: 0.7905 - val_loss: 0.5187 - val_acc: 0.7178\n",
            "Epoch 66/100\n",
            "63/63 [==============================] - 39s 620ms/step - loss: 0.4475 - acc: 0.7926 - val_loss: 0.4912 - val_acc: 0.7222\n",
            "Epoch 67/100\n",
            "63/63 [==============================] - 39s 624ms/step - loss: 0.4156 - acc: 0.8060 - val_loss: 0.4681 - val_acc: 0.7333\n",
            "Epoch 68/100\n",
            "63/63 [==============================] - 39s 624ms/step - loss: 0.4222 - acc: 0.8047 - val_loss: 0.4810 - val_acc: 0.7289\n",
            "Epoch 69/100\n",
            "63/63 [==============================] - 40s 627ms/step - loss: 0.4138 - acc: 0.8186 - val_loss: 0.4851 - val_acc: 0.7267\n",
            "Epoch 70/100\n",
            "63/63 [==============================] - 40s 630ms/step - loss: 0.3927 - acc: 0.8246 - val_loss: 0.4829 - val_acc: 0.7244\n",
            "Epoch 71/100\n",
            "63/63 [==============================] - 40s 631ms/step - loss: 0.4206 - acc: 0.7969 - val_loss: 0.4928 - val_acc: 0.7267\n",
            "Epoch 72/100\n",
            "63/63 [==============================] - 40s 629ms/step - loss: 0.4026 - acc: 0.8163 - val_loss: 0.5034 - val_acc: 0.7267\n",
            "Epoch 73/100\n",
            "63/63 [==============================] - 40s 631ms/step - loss: 0.4400 - acc: 0.7901 - val_loss: 0.4952 - val_acc: 0.7267\n",
            "Epoch 74/100\n",
            "63/63 [==============================] - 40s 629ms/step - loss: 0.4369 - acc: 0.7879 - val_loss: 0.4862 - val_acc: 0.7311\n",
            "Epoch 75/100\n",
            "63/63 [==============================] - 40s 628ms/step - loss: 0.4234 - acc: 0.8039 - val_loss: 0.4846 - val_acc: 0.7333\n",
            "Epoch 76/100\n",
            "63/63 [==============================] - 40s 629ms/step - loss: 0.4304 - acc: 0.8150 - val_loss: 0.5144 - val_acc: 0.7244\n",
            "Epoch 77/100\n",
            "63/63 [==============================] - 40s 629ms/step - loss: 0.4316 - acc: 0.7968 - val_loss: 0.4833 - val_acc: 0.7222\n",
            "Epoch 78/100\n",
            "63/63 [==============================] - 40s 630ms/step - loss: 0.4013 - acc: 0.8128 - val_loss: 0.5145 - val_acc: 0.7222\n",
            "Epoch 79/100\n",
            "63/63 [==============================] - 40s 629ms/step - loss: 0.4110 - acc: 0.8215 - val_loss: 0.4711 - val_acc: 0.7333\n",
            "Epoch 80/100\n",
            "63/63 [==============================] - 40s 630ms/step - loss: 0.4256 - acc: 0.8093 - val_loss: 0.4828 - val_acc: 0.7333\n",
            "Epoch 81/100\n",
            "63/63 [==============================] - 40s 629ms/step - loss: 0.4341 - acc: 0.8033 - val_loss: 0.4707 - val_acc: 0.7311\n",
            "Epoch 82/100\n",
            "63/63 [==============================] - 40s 630ms/step - loss: 0.4099 - acc: 0.8120 - val_loss: 0.4780 - val_acc: 0.7400\n",
            "Epoch 83/100\n",
            "63/63 [==============================] - 40s 632ms/step - loss: 0.4426 - acc: 0.8009 - val_loss: 0.4604 - val_acc: 0.7444\n",
            "Epoch 84/100\n",
            "63/63 [==============================] - 40s 631ms/step - loss: 0.4024 - acc: 0.8104 - val_loss: 0.4735 - val_acc: 0.7222\n",
            "Epoch 85/100\n",
            "63/63 [==============================] - 39s 624ms/step - loss: 0.4725 - acc: 0.7587 - val_loss: 0.5088 - val_acc: 0.7200\n",
            "Epoch 86/100\n",
            "63/63 [==============================] - 40s 630ms/step - loss: 0.4131 - acc: 0.8084 - val_loss: 0.5174 - val_acc: 0.7200\n",
            "Epoch 87/100\n",
            "63/63 [==============================] - 40s 637ms/step - loss: 0.4062 - acc: 0.8020 - val_loss: 0.4912 - val_acc: 0.7422\n",
            "Epoch 88/100\n",
            "63/63 [==============================] - 40s 639ms/step - loss: 0.3899 - acc: 0.8102 - val_loss: 0.4811 - val_acc: 0.7222\n",
            "Epoch 89/100\n",
            "63/63 [==============================] - 40s 636ms/step - loss: 0.4166 - acc: 0.8143 - val_loss: 0.4986 - val_acc: 0.7267\n",
            "Epoch 90/100\n",
            "63/63 [==============================] - 40s 634ms/step - loss: 0.3977 - acc: 0.8142 - val_loss: 0.4961 - val_acc: 0.7356\n",
            "Epoch 91/100\n",
            "63/63 [==============================] - 40s 633ms/step - loss: 0.4262 - acc: 0.8025 - val_loss: 0.4583 - val_acc: 0.7600\n",
            "Epoch 92/100\n",
            "63/63 [==============================] - 40s 639ms/step - loss: 0.4582 - acc: 0.7886 - val_loss: 0.4897 - val_acc: 0.7333\n",
            "Epoch 93/100\n",
            "63/63 [==============================] - 41s 644ms/step - loss: 0.3741 - acc: 0.8345 - val_loss: 0.4838 - val_acc: 0.7267\n",
            "Epoch 94/100\n",
            "63/63 [==============================] - 41s 649ms/step - loss: 0.4467 - acc: 0.8135 - val_loss: 0.4899 - val_acc: 0.7289\n",
            "Epoch 95/100\n",
            "63/63 [==============================] - 41s 642ms/step - loss: 0.4241 - acc: 0.8042 - val_loss: 0.4778 - val_acc: 0.7644\n",
            "Epoch 96/100\n",
            "63/63 [==============================] - 41s 642ms/step - loss: 0.4155 - acc: 0.8105 - val_loss: 0.4517 - val_acc: 0.7556\n",
            "Epoch 97/100\n",
            "63/63 [==============================] - 40s 639ms/step - loss: 0.4187 - acc: 0.8033 - val_loss: 0.5025 - val_acc: 0.7200\n",
            "Epoch 98/100\n",
            "63/63 [==============================] - 41s 647ms/step - loss: 0.4125 - acc: 0.8113 - val_loss: 0.5160 - val_acc: 0.7133\n",
            "Epoch 99/100\n",
            "63/63 [==============================] - 40s 639ms/step - loss: 0.4256 - acc: 0.8043 - val_loss: 0.4902 - val_acc: 0.7311\n",
            "Epoch 100/100\n",
            "63/63 [==============================] - 40s 641ms/step - loss: 0.4152 - acc: 0.8096 - val_loss: 0.5034 - val_acc: 0.7200\n"
          ],
          "name": "stdout"
        }
      ]
    },
    {
      "cell_type": "code",
      "metadata": {
        "id": "VUS5iwb6o7tu",
        "colab": {
          "base_uri": "https://localhost:8080/"
        },
        "outputId": "692af1cb-ea47-491d-f7f5-ba893ae6d47f"
      },
      "source": [
        "model.save('/content/drive/MyDrive/number plates/models/72valwith augumentation90')"
      ],
      "execution_count": 50,
      "outputs": [
        {
          "output_type": "stream",
          "text": [
            "INFO:tensorflow:Assets written to: /content/drive/MyDrive/number plates/models/72valwith augumentation90/assets\n"
          ],
          "name": "stdout"
        }
      ]
    },
    {
      "cell_type": "code",
      "metadata": {
        "id": "jBkdXeQu2ilr"
      },
      "source": [
        ""
      ],
      "execution_count": null,
      "outputs": []
    }
  ]
}